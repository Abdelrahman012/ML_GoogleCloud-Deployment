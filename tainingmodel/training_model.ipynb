{
 "cells": [
  {
   "cell_type": "markdown",
   "id": "7338b13d",
   "metadata": {},
   "source": [
    "# Training Model for Seul Bike Rental prediction"
   ]
  },
  {
   "cell_type": "code",
   "execution_count": 84,
   "id": "ef45550a",
   "metadata": {},
   "outputs": [],
   "source": [
    "# Import Libraries\n",
    "from sklearn.ensemble import GradientBoostingRegressor, RandomForestRegressor\n",
    "from sklearn.metrics import r2_score, mean_squared_log_error, make_scorer\n",
    "from sklearn.inspection import permutation_importance\n",
    "from matplotlib import pyplot as plt\n",
    "import pandas as pd\n",
    "from sklearn.model_selection import train_test_split, cross_val_score\n",
    "from sklearn.metrics import accuracy_score\n",
    "from sklearn.pipeline import Pipeline\n",
    "import warnings\n",
    "# Import mlflow\n",
    "import mlflow\n",
    "import mlflow.sklearn\n",
    "warnings.filterwarnings(\"ignore\")\n",
    "from sklearn.linear_model import ElasticNet\n",
    "from urllib.parse import urlparse\n",
    "import logging\n",
    "from joblib import dump\n",
    "\n",
    "logging.basicConfig(level=logging.WARN)\n",
    "logger = logging.getLogger(__name__)"
   ]
  },
  {
   "cell_type": "code",
   "execution_count": 85,
   "id": "08842157",
   "metadata": {},
   "outputs": [],
   "source": [
    "X_TRAIN_PATH = \"E:\\My_APP\\data\\preprocesseddata\\X_train.pkl\"\n",
    "X_VAL_PATH = \"E:\\My_APP\\data\\preprocesseddata\\X_val.pkl\"\n",
    "X_TEST_PATH = \"E:\\My_APP\\data\\preprocesseddata\\X_test.pkl\"\n",
    "\n",
    "Y_TRAIN_PATH = \"E:\\My_APP\\data\\preprocesseddata\\y_train.pkl\"\n",
    "Y_VAL_PATH = \"E:\\My_APP\\data\\preprocesseddata\\y_val.pkl\"\n",
    "\n",
    "# Reading pickles files \n",
    "X_train = pd.read_pickle(X_TRAIN_PATH)\n",
    "X_val = pd.read_pickle(X_VAL_PATH)\n",
    "X_test = pd.read_pickle(X_TEST_PATH)\n",
    "\n",
    "y_train = pd.read_pickle(Y_TRAIN_PATH)\n",
    "y_val = pd.read_pickle(Y_VAL_PATH)\n"
   ]
  },
  {
   "cell_type": "code",
   "execution_count": 86,
   "id": "62aabb18",
   "metadata": {},
   "outputs": [
    {
     "data": {
      "text/html": [
       "<div>\n",
       "<style scoped>\n",
       "    .dataframe tbody tr th:only-of-type {\n",
       "        vertical-align: middle;\n",
       "    }\n",
       "\n",
       "    .dataframe tbody tr th {\n",
       "        vertical-align: top;\n",
       "    }\n",
       "\n",
       "    .dataframe thead th {\n",
       "        text-align: right;\n",
       "    }\n",
       "</style>\n",
       "<table border=\"1\" class=\"dataframe\">\n",
       "  <thead>\n",
       "    <tr style=\"text-align: right;\">\n",
       "      <th></th>\n",
       "      <th>Hour</th>\n",
       "      <th>Temperature</th>\n",
       "      <th>Humidity</th>\n",
       "      <th>Wind speed</th>\n",
       "      <th>Dew point temperature</th>\n",
       "      <th>Solar Radiation</th>\n",
       "      <th>Rainfall</th>\n",
       "      <th>Holiday</th>\n",
       "      <th>Functioning Day</th>\n",
       "      <th>Year</th>\n",
       "      <th>...</th>\n",
       "      <th>hour_range_(12.0, 15.0]</th>\n",
       "      <th>hour_range_(15.0, 18.0]</th>\n",
       "      <th>hour_range_(18.0, 21.0]</th>\n",
       "      <th>hour_range_(21.0, 24.0]</th>\n",
       "      <th>month_range_(0.999, 4.0]</th>\n",
       "      <th>month_range_(4.0, 8.0]</th>\n",
       "      <th>month_range_(8.0, 12.0]</th>\n",
       "      <th>day_range_(-0.001, 2.0]</th>\n",
       "      <th>day_range_(2.0, 4.0]</th>\n",
       "      <th>day_range_(4.0, 6.0]</th>\n",
       "    </tr>\n",
       "  </thead>\n",
       "  <tbody>\n",
       "    <tr>\n",
       "      <th>5164</th>\n",
       "      <td>4</td>\n",
       "      <td>11.0</td>\n",
       "      <td>69</td>\n",
       "      <td>0.6</td>\n",
       "      <td>5.5</td>\n",
       "      <td>0.000000</td>\n",
       "      <td>0.0</td>\n",
       "      <td>1</td>\n",
       "      <td>1</td>\n",
       "      <td>1</td>\n",
       "      <td>...</td>\n",
       "      <td>0</td>\n",
       "      <td>0</td>\n",
       "      <td>0</td>\n",
       "      <td>0</td>\n",
       "      <td>0</td>\n",
       "      <td>0</td>\n",
       "      <td>1</td>\n",
       "      <td>1</td>\n",
       "      <td>0</td>\n",
       "      <td>0</td>\n",
       "    </tr>\n",
       "    <tr>\n",
       "      <th>4987</th>\n",
       "      <td>19</td>\n",
       "      <td>16.4</td>\n",
       "      <td>42</td>\n",
       "      <td>1.8</td>\n",
       "      <td>3.4</td>\n",
       "      <td>0.000000</td>\n",
       "      <td>0.0</td>\n",
       "      <td>1</td>\n",
       "      <td>1</td>\n",
       "      <td>1</td>\n",
       "      <td>...</td>\n",
       "      <td>0</td>\n",
       "      <td>0</td>\n",
       "      <td>1</td>\n",
       "      <td>0</td>\n",
       "      <td>0</td>\n",
       "      <td>1</td>\n",
       "      <td>0</td>\n",
       "      <td>0</td>\n",
       "      <td>1</td>\n",
       "      <td>0</td>\n",
       "    </tr>\n",
       "    <tr>\n",
       "      <th>5570</th>\n",
       "      <td>2</td>\n",
       "      <td>5.6</td>\n",
       "      <td>64</td>\n",
       "      <td>0.1</td>\n",
       "      <td>-0.6</td>\n",
       "      <td>0.000000</td>\n",
       "      <td>0.0</td>\n",
       "      <td>1</td>\n",
       "      <td>1</td>\n",
       "      <td>1</td>\n",
       "      <td>...</td>\n",
       "      <td>0</td>\n",
       "      <td>0</td>\n",
       "      <td>0</td>\n",
       "      <td>0</td>\n",
       "      <td>0</td>\n",
       "      <td>0</td>\n",
       "      <td>1</td>\n",
       "      <td>1</td>\n",
       "      <td>0</td>\n",
       "      <td>0</td>\n",
       "    </tr>\n",
       "    <tr>\n",
       "      <th>443</th>\n",
       "      <td>11</td>\n",
       "      <td>-3.5</td>\n",
       "      <td>35</td>\n",
       "      <td>2.2</td>\n",
       "      <td>-16.7</td>\n",
       "      <td>0.932738</td>\n",
       "      <td>0.0</td>\n",
       "      <td>1</td>\n",
       "      <td>1</td>\n",
       "      <td>0</td>\n",
       "      <td>...</td>\n",
       "      <td>0</td>\n",
       "      <td>0</td>\n",
       "      <td>0</td>\n",
       "      <td>0</td>\n",
       "      <td>0</td>\n",
       "      <td>0</td>\n",
       "      <td>1</td>\n",
       "      <td>1</td>\n",
       "      <td>0</td>\n",
       "      <td>0</td>\n",
       "    </tr>\n",
       "    <tr>\n",
       "      <th>1084</th>\n",
       "      <td>4</td>\n",
       "      <td>-12.0</td>\n",
       "      <td>36</td>\n",
       "      <td>2.7</td>\n",
       "      <td>-24.0</td>\n",
       "      <td>0.000000</td>\n",
       "      <td>0.0</td>\n",
       "      <td>1</td>\n",
       "      <td>1</td>\n",
       "      <td>1</td>\n",
       "      <td>...</td>\n",
       "      <td>0</td>\n",
       "      <td>0</td>\n",
       "      <td>0</td>\n",
       "      <td>0</td>\n",
       "      <td>0</td>\n",
       "      <td>1</td>\n",
       "      <td>0</td>\n",
       "      <td>0</td>\n",
       "      <td>0</td>\n",
       "      <td>1</td>\n",
       "    </tr>\n",
       "  </tbody>\n",
       "</table>\n",
       "<p>5 rows × 39 columns</p>\n",
       "</div>"
      ],
      "text/plain": [
       "      Hour  Temperature  Humidity  Wind speed  Dew point temperature  \\\n",
       "5164     4         11.0        69         0.6                    5.5   \n",
       "4987    19         16.4        42         1.8                    3.4   \n",
       "5570     2          5.6        64         0.1                   -0.6   \n",
       "443     11         -3.5        35         2.2                  -16.7   \n",
       "1084     4        -12.0        36         2.7                  -24.0   \n",
       "\n",
       "      Solar Radiation  Rainfall  Holiday  Functioning Day  Year  ...  \\\n",
       "5164         0.000000       0.0        1                1     1  ...   \n",
       "4987         0.000000       0.0        1                1     1  ...   \n",
       "5570         0.000000       0.0        1                1     1  ...   \n",
       "443          0.932738       0.0        1                1     0  ...   \n",
       "1084         0.000000       0.0        1                1     1  ...   \n",
       "\n",
       "      hour_range_(12.0, 15.0]  hour_range_(15.0, 18.0]  \\\n",
       "5164                        0                        0   \n",
       "4987                        0                        0   \n",
       "5570                        0                        0   \n",
       "443                         0                        0   \n",
       "1084                        0                        0   \n",
       "\n",
       "      hour_range_(18.0, 21.0]  hour_range_(21.0, 24.0]  \\\n",
       "5164                        0                        0   \n",
       "4987                        1                        0   \n",
       "5570                        0                        0   \n",
       "443                         0                        0   \n",
       "1084                        0                        0   \n",
       "\n",
       "      month_range_(0.999, 4.0]  month_range_(4.0, 8.0]  \\\n",
       "5164                         0                       0   \n",
       "4987                         0                       1   \n",
       "5570                         0                       0   \n",
       "443                          0                       0   \n",
       "1084                         0                       1   \n",
       "\n",
       "      month_range_(8.0, 12.0]  day_range_(-0.001, 2.0]  day_range_(2.0, 4.0]  \\\n",
       "5164                        1                        1                     0   \n",
       "4987                        0                        0                     1   \n",
       "5570                        1                        1                     0   \n",
       "443                         1                        1                     0   \n",
       "1084                        0                        0                     0   \n",
       "\n",
       "      day_range_(4.0, 6.0]  \n",
       "5164                     0  \n",
       "4987                     0  \n",
       "5570                     0  \n",
       "443                      0  \n",
       "1084                     1  \n",
       "\n",
       "[5 rows x 39 columns]"
      ]
     },
     "execution_count": 86,
     "metadata": {},
     "output_type": "execute_result"
    }
   ],
   "source": [
    "X_train.head()"
   ]
  },
  {
   "cell_type": "markdown",
   "id": "e0d69854",
   "metadata": {},
   "source": [
    "## Building Model"
   ]
  },
  {
   "cell_type": "code",
   "execution_count": 87,
   "id": "3c8b65fa",
   "metadata": {},
   "outputs": [],
   "source": [
    "regressors = {'Random Forest' : RandomForestRegressor(n_estimators = 15,\\\n",
    "                                 max_depth = 10, random_state = 0),\n",
    "               'GradientBoostingRegressor' :\\\n",
    "               GradientBoostingRegressor(n_estimators = 280,\\\n",
    "                  max_depth = 5, max_leaf_nodes = 60,\\\n",
    "                  loss = \"huber\", random_state = 0)}\n"
   ]
  },
  {
   "cell_type": "markdown",
   "id": "527ca735",
   "metadata": {},
   "source": [
    "### ML_FLOW"
   ]
  },
  {
   "cell_type": "code",
   "execution_count": 88,
   "id": "0f057514",
   "metadata": {},
   "outputs": [],
   "source": [
    "def train_rgrs(X_train, X_val, y_train, y_val, classifiers):\n",
    "    \n",
    "    logging.basicConfig(level=logging.WARN)\n",
    "    logger = logging.getLogger(__name__)\n",
    "    \n",
    "    names_rgrs = []\n",
    "    results_train_cv_accuracy = []\n",
    "    results_val_accuracy = []\n",
    "\n",
    "    for name_rgr, rgr in regressors.items():\n",
    "        with mlflow.start_run(run_name=f\"{name_rgr}\"):\n",
    "            print(f'Classifier: {name_rgr}\\n')\n",
    "\n",
    "            pipeline = Pipeline([('clf', rgr)])\n",
    "            \n",
    "            cv_acc = cross_val_score(pipeline, X_train, y_train, cv=10)        \n",
    "            \n",
    "            pipeline.fit(X_train, y_train)        \n",
    "            #y_pred = pipeline.predict(X_val)\n",
    "            \n",
    "            names_rgrs.append(name_rgr)\n",
    "            results_train_cv_accuracy.append(cv_acc)\n",
    "            results_val_accuracy.append(rgr.score(X_val, y_val))\n",
    "       \n",
    "            print(f'CV\\t-\\taccuracy:\\t{round(cv_acc.mean(), 3)}')\n",
    "         \n",
    "            print(f'Validation\\t-\\taccuracy:\\t{round(rgr.score(X_val, y_val), 3)}')      \n",
    "            print('\\n<-------------------------->\\n')\n",
    "\n",
    "            # Log mlflow attributes for mlflow UI\n",
    "\n",
    "            mlflow.log_metric('CV-accuracy',round(cv_acc.mean(), 3))\n",
    "         \n",
    "            mlflow.log_metric('Validation-accuracy',round(rgr.score(X_val, y_val), 3))\n",
    "            mlflow.sklearn.log_model(pipeline, \"model\")\n",
    "            tracking_url_type_store = urlparse(mlflow.get_tracking_uri()).scheme\n",
    "\n",
    "            # Model registry does not work with file store\n",
    "            if tracking_url_type_store != \"file\":\n",
    "                # Register the model\n",
    "                # There are other ways to use the Model Registry, which depends on the use case,\n",
    "                # please refer to the doc for more information:\n",
    "                # https://mlflow.org/docs/latest/model-registry.html#api-workflow\n",
    "                mlflow.sklearn.log_model(rgr, \"model\", registered_model_name=\"ElasticnetWineModel\")\n",
    "            else:\n",
    "                mlflow.sklearn.log_model(rgr, \"model\")\n",
    "            \n",
    "    df_results_test = pd.DataFrame(index=[names_rgrs], columns=['ACCURACY'])\n",
    "    df_results_test['ACCURACY'] = results_val_accuracy\n",
    "\n",
    "    return df_results_test"
   ]
  },
  {
   "cell_type": "markdown",
   "id": "e3d59e71",
   "metadata": {},
   "source": [
    "### Model evaluation"
   ]
  },
  {
   "cell_type": "code",
   "execution_count": 89,
   "id": "ab65b27d",
   "metadata": {},
   "outputs": [
    {
     "name": "stdout",
     "output_type": "stream",
     "text": [
      "Classifier: Random Forest\n",
      "\n",
      "CV\t-\taccuracy:\t0.933\n",
      "Validation\t-\taccuracy:\t0.941\n",
      "\n",
      "<-------------------------->\n",
      "\n",
      "Classifier: GradientBoostingRegressor\n",
      "\n",
      "CV\t-\taccuracy:\t0.949\n",
      "Validation\t-\taccuracy:\t0.964\n",
      "\n",
      "<-------------------------->\n",
      "\n"
     ]
    }
   ],
   "source": [
    "df_results = train_rgrs(X_train, X_val, y_train, y_val, classifiers)"
   ]
  },
  {
   "cell_type": "code",
   "execution_count": 90,
   "id": "04193a05",
   "metadata": {},
   "outputs": [],
   "source": [
    "def plot_test(df, xlim_min, xlim_max):\n",
    "\n",
    "    color = ['blue', 'red', 'green', 'yellow', 'orange', 'purple', 'navy', 'turquoise', 'darkorange']\n",
    "\n",
    "    df['ACCURACY'].plot(kind='barh',xlim=(xlim_min, xlim_max), title='ACCURACY', color=color)\n",
    "    plt.show()"
   ]
  },
  {
   "cell_type": "code",
   "execution_count": 91,
   "id": "a14df440",
   "metadata": {},
   "outputs": [
    {
     "data": {
      "image/png": "[encoded data removed]",
      "text/plain": [
       "<Figure size 432x288 with 1 Axes>"
      ]
     },
     "metadata": {
      "needs_background": "light"
     },
     "output_type": "display_data"
    }
   ],
   "source": [
    "df_plot = df_results.sort_values('ACCURACY', ascending=False).head(3)\n",
    "plot_test(df_plot, 0.4, 1)"
   ]
  },
  {
   "cell_type": "markdown",
   "id": "51f9d65c",
   "metadata": {},
   "source": [
    "## Saving Model"
   ]
  },
  {
   "cell_type": "code",
   "execution_count": 92,
   "id": "7f5a96a1",
   "metadata": {},
   "outputs": [
    {
     "data": {
      "text/plain": [
       "Index(['Hour', 'Temperature', 'Humidity', 'Wind speed',\n",
       "       'Dew point temperature', 'Solar Radiation', 'Rainfall', 'Holiday',\n",
       "       'Functioning Day', 'Year', 'day', 'Weekday', 'Month', 'Hot',\n",
       "       'isOfficeHour', 'weekend', 'Hour_sin', 'Remaining_Seasons',\n",
       "       'Sunday_Saturday', 'Remaining_Weekday', 'Yes_Noholiday',\n",
       "       'Seasons_Autumn', 'Seasons_Spring', 'Seasons_Summer', 'Seasons_Winter',\n",
       "       'hour_range_(-0.001, 3.0]', 'hour_range_(3.0, 6.0]',\n",
       "       'hour_range_(6.0, 9.0]', 'hour_range_(9.0, 12.0]',\n",
       "       'hour_range_(12.0, 15.0]', 'hour_range_(15.0, 18.0]',\n",
       "       'hour_range_(18.0, 21.0]', 'hour_range_(21.0, 24.0]',\n",
       "       'month_range_(0.999, 4.0]', 'month_range_(4.0, 8.0]',\n",
       "       'month_range_(8.0, 12.0]', 'day_range_(-0.001, 2.0]',\n",
       "       'day_range_(2.0, 4.0]', 'day_range_(4.0, 6.0]'],\n",
       "      dtype='object')"
      ]
     },
     "execution_count": 92,
     "metadata": {},
     "output_type": "execute_result"
    }
   ],
   "source": [
    "X_train.columns"
   ]
  },
  {
   "cell_type": "code",
   "execution_count": 93,
   "id": "60bf4fbf",
   "metadata": {},
   "outputs": [
    {
     "data": {
      "text/plain": [
       "['E://My_APP//SeulBike_model.joblib']"
      ]
     },
     "execution_count": 93,
     "metadata": {},
     "output_type": "execute_result"
    }
   ],
   "source": [
    "pipeline = Pipeline([ ('GradientBoostingRegressor' ,\\\n",
    "                     GradientBoostingRegressor(n_estimators = 280,\\\n",
    "                    max_depth = 5, max_leaf_nodes = 60,\\\n",
    "                    loss = \"huber\", random_state = 0))])\n",
    "\n",
    "\n",
    "X_train=X_train[['Month', 'day', 'Hour', 'Functioning Day', 'Temperature',\\\n",
    "                'Humidity', 'Dew point temperature']]\n",
    "pipeline.fit(X_train, y_train)\n",
    "\n",
    "\n",
    "dump(pipeline, 'E://My_APP//SeulBike_model.joblib')\n"
   ]
  }
 ],
 "metadata": {
  "kernelspec": {
   "display_name": "Python 3 (ipykernel)",
   "language": "python",
   "name": "python3"
  },
  "language_info": {
   "codemirror_mode": {
    "name": "ipython",
    "version": 3
   },
   "file_extension": ".py",
   "mimetype": "text/x-python",
   "name": "python",
   "nbconvert_exporter": "python",
   "pygments_lexer": "ipython3",
   "version": "3.9.7"
  }
 },
 "nbformat": 4,
 "nbformat_minor": 5
}
